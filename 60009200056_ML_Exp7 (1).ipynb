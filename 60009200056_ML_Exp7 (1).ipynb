{
  "cells": [
    {
      "cell_type": "markdown",
      "source": [
        "* NAME: RISHABH PATIL\n",
        "* SAP: 60009200056\n",
        "* BATCH: K2"
      ],
      "metadata": {
        "id": "9h9AqG2k5m9u"
      }
    },
    {
      "cell_type": "code",
      "execution_count": null,
      "metadata": {
        "id": "2Mi7FZj9kET3"
      },
      "outputs": [],
      "source": [
        "import pandas as pd\n",
        "import numpy as np"
      ]
    },
    {
      "cell_type": "markdown",
      "source": [
        "# Question 1"
      ],
      "metadata": {
        "id": "wEftlwQR5tZK"
      }
    },
    {
      "cell_type": "code",
      "execution_count": null,
      "metadata": {
        "id": "gpiOES02kOVG"
      },
      "outputs": [],
      "source": [
        "from sklearn.datasets import make_classification"
      ]
    },
    {
      "cell_type": "code",
      "execution_count": null,
      "metadata": {
        "id": "_uCzSL3AkXGE"
      },
      "outputs": [],
      "source": [
        "x, y = make_classification(n_features=20, n_samples=1000, n_informative=15, n_redundant=5, random_state=6)"
      ]
    },
    {
      "cell_type": "code",
      "execution_count": null,
      "metadata": {
        "colab": {
          "base_uri": "https://localhost:8080/"
        },
        "id": "CW2X_os3kpf1",
        "outputId": "1af8cd35-b1c8-499a-dc20-3508ce8ff31c"
      },
      "outputs": [
        {
          "output_type": "execute_result",
          "data": {
            "text/plain": [
              "(array([[-3.47224758,  1.95378146,  0.04875169, ...,  2.07283886,\n",
              "          0.08385173,  0.91461126],\n",
              "        [-2.42264447,  1.49687583, -0.80110683, ...,  1.14726175,\n",
              "         -2.86306705, -0.27575018],\n",
              "        [-4.01744369, -2.26537329,  2.72577799, ...,  1.34014025,\n",
              "         -0.78634498, -1.17749558],\n",
              "        ...,\n",
              "        [ 2.39019744, -0.28042398, -0.01286339, ..., -0.95516099,\n",
              "         -0.76710459,  1.70412285],\n",
              "        [ 0.60081099,  1.84539674, -1.58163928, ..., -1.55912569,\n",
              "         -2.26992832,  0.42082267],\n",
              "        [-1.27669747,  1.6527396 , -1.39187956, ...,  0.72869505,\n",
              "         -0.49441791,  2.75397458]]),\n",
              " array([0, 1, 1, 1, 0, 1, 0, 1, 0, 1, 1, 0, 1, 1, 1, 0, 0, 0, 0, 0, 0, 1,\n",
              "        0, 0, 1, 0, 0, 1, 1, 1, 0, 0, 0, 1, 0, 0, 1, 0, 0, 1, 1, 1, 1, 0,\n",
              "        1, 1, 0, 0, 1, 1, 1, 1, 0, 0, 0, 0, 0, 0, 0, 0, 0, 0, 0, 1, 0, 0,\n",
              "        0, 0, 1, 1, 0, 0, 1, 1, 0, 0, 0, 1, 0, 0, 0, 1, 0, 1, 1, 1, 1, 1,\n",
              "        1, 1, 0, 0, 0, 0, 1, 1, 0, 1, 1, 1, 0, 1, 1, 0, 1, 1, 1, 0, 0, 1,\n",
              "        0, 1, 1, 0, 0, 0, 1, 0, 0, 1, 0, 1, 1, 0, 1, 0, 1, 1, 1, 1, 0, 0,\n",
              "        0, 0, 0, 0, 0, 1, 0, 1, 0, 1, 0, 1, 1, 1, 1, 0, 0, 1, 1, 0, 1, 1,\n",
              "        1, 1, 1, 1, 1, 1, 1, 1, 1, 0, 0, 0, 0, 0, 1, 1, 1, 0, 1, 0, 0, 0,\n",
              "        0, 1, 1, 1, 1, 0, 1, 0, 0, 0, 1, 0, 1, 0, 1, 1, 1, 0, 1, 0, 0, 1,\n",
              "        0, 1, 0, 0, 0, 0, 1, 1, 0, 1, 1, 1, 1, 0, 1, 1, 0, 1, 0, 1, 1, 1,\n",
              "        1, 1, 1, 1, 1, 1, 0, 0, 0, 1, 0, 1, 0, 1, 0, 1, 0, 0, 0, 1, 1, 1,\n",
              "        0, 1, 0, 1, 1, 0, 0, 0, 1, 1, 0, 1, 0, 0, 0, 1, 0, 0, 0, 0, 0, 1,\n",
              "        1, 1, 0, 1, 0, 1, 1, 0, 0, 0, 0, 0, 0, 1, 0, 0, 0, 1, 0, 0, 0, 1,\n",
              "        0, 0, 0, 0, 1, 0, 0, 1, 1, 0, 0, 0, 0, 0, 0, 0, 1, 0, 0, 0, 0, 1,\n",
              "        1, 0, 1, 1, 1, 0, 0, 1, 1, 1, 1, 0, 0, 0, 1, 0, 1, 1, 1, 0, 1, 0,\n",
              "        1, 1, 0, 1, 0, 1, 1, 1, 0, 0, 1, 0, 0, 1, 1, 1, 1, 1, 0, 1, 0, 1,\n",
              "        0, 0, 0, 1, 0, 0, 0, 0, 0, 0, 0, 1, 0, 1, 1, 1, 1, 1, 0, 1, 0, 1,\n",
              "        0, 1, 0, 1, 1, 0, 0, 0, 0, 0, 0, 0, 1, 1, 0, 0, 0, 1, 0, 0, 0, 1,\n",
              "        1, 1, 1, 1, 0, 1, 0, 0, 0, 1, 0, 0, 0, 0, 0, 1, 1, 0, 0, 1, 1, 0,\n",
              "        1, 1, 0, 0, 0, 1, 0, 0, 1, 1, 1, 1, 0, 1, 0, 0, 1, 1, 1, 1, 0, 0,\n",
              "        1, 1, 0, 0, 0, 1, 1, 1, 1, 0, 1, 0, 1, 0, 0, 0, 0, 1, 1, 1, 0, 0,\n",
              "        1, 1, 0, 0, 1, 1, 1, 0, 1, 0, 1, 0, 0, 0, 0, 1, 0, 0, 0, 1, 1, 1,\n",
              "        1, 0, 0, 0, 1, 0, 1, 0, 0, 1, 1, 0, 0, 0, 1, 1, 1, 0, 0, 0, 1, 1,\n",
              "        1, 1, 1, 1, 0, 0, 0, 1, 0, 1, 0, 0, 1, 1, 1, 1, 1, 0, 1, 1, 1, 0,\n",
              "        1, 0, 1, 1, 0, 1, 1, 1, 0, 0, 0, 0, 0, 0, 1, 0, 0, 1, 0, 1, 1, 0,\n",
              "        1, 1, 1, 0, 0, 1, 0, 1, 1, 0, 1, 1, 1, 0, 0, 0, 0, 1, 1, 1, 0, 0,\n",
              "        1, 0, 0, 1, 1, 0, 0, 1, 1, 0, 0, 1, 1, 0, 0, 0, 1, 0, 1, 1, 1, 1,\n",
              "        0, 1, 1, 0, 1, 0, 0, 1, 1, 0, 0, 0, 0, 0, 0, 0, 0, 0, 0, 1, 1, 0,\n",
              "        1, 1, 1, 0, 0, 0, 1, 1, 1, 1, 0, 0, 0, 0, 1, 1, 0, 0, 1, 1, 0, 1,\n",
              "        0, 1, 0, 1, 0, 0, 0, 0, 1, 0, 1, 1, 1, 1, 0, 1, 1, 1, 1, 0, 0, 0,\n",
              "        0, 1, 1, 1, 1, 0, 1, 0, 0, 0, 0, 0, 1, 1, 1, 1, 1, 0, 1, 1, 1, 1,\n",
              "        0, 1, 0, 1, 0, 1, 0, 1, 0, 0, 0, 1, 1, 1, 1, 1, 0, 0, 0, 0, 0, 0,\n",
              "        0, 1, 1, 1, 0, 0, 1, 0, 1, 0, 0, 1, 0, 1, 1, 1, 0, 0, 1, 0, 0, 0,\n",
              "        1, 1, 1, 0, 0, 1, 1, 1, 0, 1, 1, 1, 1, 0, 0, 0, 0, 1, 1, 1, 1, 1,\n",
              "        0, 1, 1, 1, 0, 1, 0, 1, 0, 0, 1, 1, 0, 1, 0, 0, 1, 1, 0, 1, 0, 0,\n",
              "        0, 1, 0, 0, 0, 1, 1, 1, 0, 0, 1, 0, 1, 1, 0, 0, 0, 1, 0, 0, 0, 0,\n",
              "        0, 1, 0, 0, 1, 0, 0, 0, 0, 0, 0, 1, 0, 1, 0, 1, 1, 1, 0, 0, 1, 0,\n",
              "        0, 0, 1, 0, 1, 1, 1, 1, 0, 1, 0, 1, 0, 0, 0, 1, 1, 1, 1, 1, 0, 0,\n",
              "        0, 1, 0, 1, 0, 0, 1, 1, 0, 1, 1, 0, 1, 1, 0, 0, 1, 0, 0, 0, 0, 0,\n",
              "        1, 1, 1, 0, 0, 1, 1, 1, 0, 1, 0, 1, 1, 0, 1, 0, 1, 1, 1, 1, 1, 1,\n",
              "        1, 1, 1, 1, 1, 0, 0, 0, 0, 0, 0, 1, 0, 0, 0, 1, 1, 0, 1, 1, 0, 1,\n",
              "        0, 1, 0, 0, 0, 1, 1, 0, 0, 1, 1, 1, 1, 0, 0, 0, 0, 1, 1, 0, 1, 0,\n",
              "        1, 1, 1, 0, 1, 0, 1, 1, 1, 1, 0, 0, 1, 0, 1, 1, 0, 1, 1, 0, 1, 1,\n",
              "        0, 1, 0, 1, 1, 1, 1, 1, 1, 1, 0, 0, 0, 1, 1, 0, 1, 1, 1, 0, 1, 1,\n",
              "        0, 0, 0, 0, 1, 0, 0, 1, 0, 0, 1, 1, 0, 1, 0, 1, 1, 0, 0, 0, 0, 1,\n",
              "        1, 1, 1, 1, 1, 0, 1, 1, 0, 1]))"
            ]
          },
          "metadata": {},
          "execution_count": 4
        }
      ],
      "source": [
        "x, y"
      ]
    },
    {
      "cell_type": "code",
      "execution_count": null,
      "metadata": {
        "id": "ZUO2vhtvmvfr"
      },
      "outputs": [],
      "source": [
        "# xtrain = x[:20]"
      ]
    },
    {
      "cell_type": "code",
      "execution_count": null,
      "metadata": {
        "id": "nUaugzTLooei"
      },
      "outputs": [],
      "source": [
        "# ytest = y[:20]"
      ]
    },
    {
      "cell_type": "markdown",
      "metadata": {
        "id": "_KH7FJayqkoN"
      },
      "source": [
        "## AdaBoost using DT"
      ]
    },
    {
      "cell_type": "code",
      "execution_count": null,
      "metadata": {
        "id": "xbpK1pRnlOZX"
      },
      "outputs": [],
      "source": [
        "from sklearn.ensemble import AdaBoostClassifier\n",
        "model = AdaBoostClassifier()"
      ]
    },
    {
      "cell_type": "code",
      "execution_count": null,
      "metadata": {
        "colab": {
          "base_uri": "https://localhost:8080/"
        },
        "id": "U-Cn5jW2kq9b",
        "outputId": "2c4feed4-407a-43a2-cac7-3265204fdfcd"
      },
      "outputs": [
        {
          "output_type": "stream",
          "name": "stdout",
          "text": [
            "Accuracy: 0.8063333333333333, STD of all accuracies: 0.040700805342837564\n"
          ]
        }
      ],
      "source": [
        "from sklearn.model_selection import RepeatedStratifiedKFold, cross_val_score\n",
        "cv = RepeatedStratifiedKFold(n_splits=10, n_repeats=3, random_state=1)\n",
        "n_scores = cross_val_score(model, x, y, scoring='accuracy', cv=cv, n_jobs=1, error_score='raise')\n",
        "print(f'Accuracy: {np.mean(n_scores)}, STD of all accuracies: {np.std(n_scores)}')"
      ]
    },
    {
      "cell_type": "code",
      "execution_count": null,
      "metadata": {
        "colab": {
          "base_uri": "https://localhost:8080/"
        },
        "id": "b9tgmzA8mgBE",
        "outputId": "fc5f04dc-a63f-41d3-caa0-00bf4c32efc3"
      },
      "outputs": [
        {
          "output_type": "stream",
          "name": "stdout",
          "text": [
            "[0]\n"
          ]
        }
      ],
      "source": [
        "model.fit(x, y)\n",
        "row = [[-3.47224758,   1.95378146,   0.04875169,  -0.91592588,\n",
        "        -3.54022468,   1.96405547,  -7.72564954,  -2.64787168,\n",
        "        -1.81726906,  -1.67104974,   2.33762043,  -4.30273117,\n",
        "         0.4839841 ,  -1.28253034, -10.6704077 ,  -0.7641103 ,\n",
        "        -3.58493721,   2.07283886,   0.08385173,   0.91461126]]\n",
        "yhat = model.predict(row)\n",
        "print(yhat)"
      ]
    },
    {
      "cell_type": "markdown",
      "metadata": {
        "id": "zr6ffnTDqon2"
      },
      "source": [
        "## AdaBoost using Logistic Regression"
      ]
    },
    {
      "cell_type": "code",
      "execution_count": null,
      "metadata": {
        "id": "hYKCIqy6m20x"
      },
      "outputs": [],
      "source": [
        "from sklearn.ensemble import AdaBoostClassifier\n",
        "from sklearn.linear_model import LogisticRegression\n",
        "model1 = AdaBoostClassifier(base_estimator = LogisticRegression())"
      ]
    },
    {
      "cell_type": "code",
      "execution_count": null,
      "metadata": {
        "colab": {
          "base_uri": "https://localhost:8080/"
        },
        "id": "fwS0hmscoDqR",
        "outputId": "05e28960-2bdc-4170-d19c-39d834066e25"
      },
      "outputs": [
        {
          "output_type": "stream",
          "name": "stdout",
          "text": [
            "Accuracy: 0.7939999999999999, STD of all accuracies: 0.03168595903550971\n"
          ]
        }
      ],
      "source": [
        "from sklearn.model_selection import RepeatedStratifiedKFold, cross_val_score\n",
        "cv = RepeatedStratifiedKFold(n_splits=10, n_repeats=3, random_state=1)\n",
        "n_scores = cross_val_score(model1, x, y, scoring='accuracy', cv=cv, n_jobs=1, error_score='raise')\n",
        "print(f'Accuracy: {np.mean(n_scores)}, STD of all accuracies: {np.std(n_scores)}')"
      ]
    },
    {
      "cell_type": "code",
      "execution_count": null,
      "metadata": {
        "colab": {
          "base_uri": "https://localhost:8080/"
        },
        "id": "4oRFFDVZoDqU",
        "outputId": "8394647a-9863-484d-de2e-b24949e775fc"
      },
      "outputs": [
        {
          "output_type": "stream",
          "name": "stdout",
          "text": [
            "[0]\n"
          ]
        }
      ],
      "source": [
        "model1.fit(x, y)\n",
        "row = [[-3.47224758,   1.95378146,   0.04875169,  -0.91592588,\n",
        "        -3.54022468,   1.96405547,  -7.72564954,  -2.64787168,\n",
        "        -1.81726906,  -1.67104974,   2.33762043,  -4.30273117,\n",
        "         0.4839841 ,  -1.28253034, -10.6704077 ,  -0.7641103 ,\n",
        "        -3.58493721,   2.07283886,   0.08385173,   0.91461126]]\n",
        "yhat = model1.predict(row)\n",
        "print(yhat)"
      ]
    },
    {
      "cell_type": "markdown",
      "metadata": {
        "id": "EqMbtWazqdIP"
      },
      "source": [
        "## AdaBoost ensemble depth effect on performance"
      ]
    },
    {
      "cell_type": "code",
      "execution_count": null,
      "metadata": {
        "id": "08d7TQGApMU3"
      },
      "outputs": [],
      "source": [
        "from sklearn.tree import DecisionTreeClassifier\n",
        "from sklearn.ensemble import AdaBoostClassifier\n",
        "# Set a list of models to evaluate\n",
        "def get_models():\n",
        "  models = {}\n",
        "  # explore depths from 1 - 10\n",
        "  for i in range(1,10):\n",
        "    # define base model\n",
        "    base = DecisionTreeClassifier(max_depth=i)\n",
        "    # define ensemble model\n",
        "    models[str(i)] = AdaBoostClassifier(base_estimator=base)\n",
        "  return models"
      ]
    },
    {
      "cell_type": "code",
      "execution_count": null,
      "metadata": {
        "colab": {
          "base_uri": "https://localhost:8080/"
        },
        "id": "At5E9ii8rzPm",
        "outputId": "2b223816-1b34-4326-f887-e54c63585fc3"
      },
      "outputs": [
        {
          "output_type": "stream",
          "name": "stdout",
          "text": [
            "Name: 1  Acc: 0.8063333333333333  STD: 0.0407008053428376\n",
            "Name: 2  Acc: 0.8639999999999998  STD: 0.0275196899207337\n",
            "Name: 3  Acc: 0.8663333333333333  STD: 0.0315682681747915\n",
            "Name: 4  Acc: 0.8966666666666665  STD: 0.0283235277149973\n",
            "Name: 5  Acc: 0.9190000000000002  STD: 0.0259935889531759\n",
            "Name: 6  Acc: 0.9266666666666666  STD: 0.0216538423585489\n",
            "Name: 7  Acc: 0.9273333333333335  STD: 0.0268245327183076\n",
            "Name: 8  Acc: 0.9303333333333336  STD: 0.0262657360241225\n",
            "Name: 9  Acc: 0.9356666666666666  STD: 0.0295164737430172\n"
          ]
        }
      ],
      "source": [
        "# evaluate model using cross_validation\n",
        "from sklearn.ensemble import AdaBoostClassifier\n",
        "from sklearn.linear_model import LogisticRegression\n",
        "from sklearn.model_selection import RepeatedStratifiedKFold, cross_val_score\n",
        "\n",
        "def evaluate(model, x, y):\n",
        "  cv = RepeatedStratifiedKFold(n_splits=10, n_repeats=3, random_state=1)\n",
        "  n_scores = cross_val_score(model, x, y, scoring='accuracy', cv=cv, n_jobs=1, error_score='raise')\n",
        "  return [np.mean(n_scores), np.std(n_scores)]\n",
        "  # return n_scores\n",
        "\n",
        "models = get_models()\n",
        "\n",
        "results, names = [], []\n",
        "\n",
        "#evaluating models\n",
        "for name, model in models.items():\n",
        "  scores = evaluate(model, x, y)\n",
        "  results.append(scores)\n",
        "  names.append(name)\n",
        "  print(f'Name: {name}  Acc: {scores[0]:.16f}  STD: {scores[1]:.16f}')\n",
        "\n"
      ]
    },
    {
      "cell_type": "markdown",
      "source": [
        "We can see that there is slight change in metrics with Decision Tree and Logistic Regession as base learner"
      ],
      "metadata": {
        "id": "jfWUOUUH44KP"
      }
    },
    {
      "cell_type": "markdown",
      "metadata": {
        "id": "XnlCxJfgggRN"
      },
      "source": [
        "# Question 2"
      ]
    },
    {
      "cell_type": "code",
      "execution_count": null,
      "metadata": {
        "id": "reet0BRP44WN"
      },
      "outputs": [],
      "source": [
        "data = pd.read_csv('/creditcard 1.csv')"
      ]
    },
    {
      "cell_type": "code",
      "execution_count": null,
      "metadata": {
        "colab": {
          "base_uri": "https://localhost:8080/",
          "height": 299
        },
        "id": "rXv3TqPlgfeV",
        "outputId": "78d03faf-3934-4b1d-9dfc-803b6edc1605"
      },
      "outputs": [
        {
          "output_type": "execute_result",
          "data": {
            "text/plain": [
              "   Time        V1        V2        V3        V4        V5        V6        V7  \\\n",
              "0   0.0 -1.359807 -0.072781  2.536347  1.378155 -0.338321  0.462388  0.239599   \n",
              "1   0.0  1.191857  0.266151  0.166480  0.448154  0.060018 -0.082361 -0.078803   \n",
              "2   1.0 -1.358354 -1.340163  1.773209  0.379780 -0.503198  1.800499  0.791461   \n",
              "3   1.0 -0.966272 -0.185226  1.792993 -0.863291 -0.010309  1.247203  0.237609   \n",
              "4   2.0 -1.158233  0.877737  1.548718  0.403034 -0.407193  0.095921  0.592941   \n",
              "\n",
              "         V8        V9  ...       V21       V22       V23       V24       V25  \\\n",
              "0  0.098698  0.363787  ... -0.018307  0.277838 -0.110474  0.066928  0.128539   \n",
              "1  0.085102 -0.255425  ... -0.225775 -0.638672  0.101288 -0.339846  0.167170   \n",
              "2  0.247676 -1.514654  ...  0.247998  0.771679  0.909412 -0.689281 -0.327642   \n",
              "3  0.377436 -1.387024  ... -0.108300  0.005274 -0.190321 -1.175575  0.647376   \n",
              "4 -0.270533  0.817739  ... -0.009431  0.798278 -0.137458  0.141267 -0.206010   \n",
              "\n",
              "        V26       V27       V28  Amount  Class  \n",
              "0 -0.189115  0.133558 -0.021053  149.62      0  \n",
              "1  0.125895 -0.008983  0.014724    2.69      0  \n",
              "2 -0.139097 -0.055353 -0.059752  378.66      0  \n",
              "3 -0.221929  0.062723  0.061458  123.50      0  \n",
              "4  0.502292  0.219422  0.215153   69.99      0  \n",
              "\n",
              "[5 rows x 31 columns]"
            ],
            "text/html": [
              "\n",
              "  <div id=\"df-25b261b1-df2c-4e29-94ab-682d74503e62\">\n",
              "    <div class=\"colab-df-container\">\n",
              "      <div>\n",
              "<style scoped>\n",
              "    .dataframe tbody tr th:only-of-type {\n",
              "        vertical-align: middle;\n",
              "    }\n",
              "\n",
              "    .dataframe tbody tr th {\n",
              "        vertical-align: top;\n",
              "    }\n",
              "\n",
              "    .dataframe thead th {\n",
              "        text-align: right;\n",
              "    }\n",
              "</style>\n",
              "<table border=\"1\" class=\"dataframe\">\n",
              "  <thead>\n",
              "    <tr style=\"text-align: right;\">\n",
              "      <th></th>\n",
              "      <th>Time</th>\n",
              "      <th>V1</th>\n",
              "      <th>V2</th>\n",
              "      <th>V3</th>\n",
              "      <th>V4</th>\n",
              "      <th>V5</th>\n",
              "      <th>V6</th>\n",
              "      <th>V7</th>\n",
              "      <th>V8</th>\n",
              "      <th>V9</th>\n",
              "      <th>...</th>\n",
              "      <th>V21</th>\n",
              "      <th>V22</th>\n",
              "      <th>V23</th>\n",
              "      <th>V24</th>\n",
              "      <th>V25</th>\n",
              "      <th>V26</th>\n",
              "      <th>V27</th>\n",
              "      <th>V28</th>\n",
              "      <th>Amount</th>\n",
              "      <th>Class</th>\n",
              "    </tr>\n",
              "  </thead>\n",
              "  <tbody>\n",
              "    <tr>\n",
              "      <th>0</th>\n",
              "      <td>0.0</td>\n",
              "      <td>-1.359807</td>\n",
              "      <td>-0.072781</td>\n",
              "      <td>2.536347</td>\n",
              "      <td>1.378155</td>\n",
              "      <td>-0.338321</td>\n",
              "      <td>0.462388</td>\n",
              "      <td>0.239599</td>\n",
              "      <td>0.098698</td>\n",
              "      <td>0.363787</td>\n",
              "      <td>...</td>\n",
              "      <td>-0.018307</td>\n",
              "      <td>0.277838</td>\n",
              "      <td>-0.110474</td>\n",
              "      <td>0.066928</td>\n",
              "      <td>0.128539</td>\n",
              "      <td>-0.189115</td>\n",
              "      <td>0.133558</td>\n",
              "      <td>-0.021053</td>\n",
              "      <td>149.62</td>\n",
              "      <td>0</td>\n",
              "    </tr>\n",
              "    <tr>\n",
              "      <th>1</th>\n",
              "      <td>0.0</td>\n",
              "      <td>1.191857</td>\n",
              "      <td>0.266151</td>\n",
              "      <td>0.166480</td>\n",
              "      <td>0.448154</td>\n",
              "      <td>0.060018</td>\n",
              "      <td>-0.082361</td>\n",
              "      <td>-0.078803</td>\n",
              "      <td>0.085102</td>\n",
              "      <td>-0.255425</td>\n",
              "      <td>...</td>\n",
              "      <td>-0.225775</td>\n",
              "      <td>-0.638672</td>\n",
              "      <td>0.101288</td>\n",
              "      <td>-0.339846</td>\n",
              "      <td>0.167170</td>\n",
              "      <td>0.125895</td>\n",
              "      <td>-0.008983</td>\n",
              "      <td>0.014724</td>\n",
              "      <td>2.69</td>\n",
              "      <td>0</td>\n",
              "    </tr>\n",
              "    <tr>\n",
              "      <th>2</th>\n",
              "      <td>1.0</td>\n",
              "      <td>-1.358354</td>\n",
              "      <td>-1.340163</td>\n",
              "      <td>1.773209</td>\n",
              "      <td>0.379780</td>\n",
              "      <td>-0.503198</td>\n",
              "      <td>1.800499</td>\n",
              "      <td>0.791461</td>\n",
              "      <td>0.247676</td>\n",
              "      <td>-1.514654</td>\n",
              "      <td>...</td>\n",
              "      <td>0.247998</td>\n",
              "      <td>0.771679</td>\n",
              "      <td>0.909412</td>\n",
              "      <td>-0.689281</td>\n",
              "      <td>-0.327642</td>\n",
              "      <td>-0.139097</td>\n",
              "      <td>-0.055353</td>\n",
              "      <td>-0.059752</td>\n",
              "      <td>378.66</td>\n",
              "      <td>0</td>\n",
              "    </tr>\n",
              "    <tr>\n",
              "      <th>3</th>\n",
              "      <td>1.0</td>\n",
              "      <td>-0.966272</td>\n",
              "      <td>-0.185226</td>\n",
              "      <td>1.792993</td>\n",
              "      <td>-0.863291</td>\n",
              "      <td>-0.010309</td>\n",
              "      <td>1.247203</td>\n",
              "      <td>0.237609</td>\n",
              "      <td>0.377436</td>\n",
              "      <td>-1.387024</td>\n",
              "      <td>...</td>\n",
              "      <td>-0.108300</td>\n",
              "      <td>0.005274</td>\n",
              "      <td>-0.190321</td>\n",
              "      <td>-1.175575</td>\n",
              "      <td>0.647376</td>\n",
              "      <td>-0.221929</td>\n",
              "      <td>0.062723</td>\n",
              "      <td>0.061458</td>\n",
              "      <td>123.50</td>\n",
              "      <td>0</td>\n",
              "    </tr>\n",
              "    <tr>\n",
              "      <th>4</th>\n",
              "      <td>2.0</td>\n",
              "      <td>-1.158233</td>\n",
              "      <td>0.877737</td>\n",
              "      <td>1.548718</td>\n",
              "      <td>0.403034</td>\n",
              "      <td>-0.407193</td>\n",
              "      <td>0.095921</td>\n",
              "      <td>0.592941</td>\n",
              "      <td>-0.270533</td>\n",
              "      <td>0.817739</td>\n",
              "      <td>...</td>\n",
              "      <td>-0.009431</td>\n",
              "      <td>0.798278</td>\n",
              "      <td>-0.137458</td>\n",
              "      <td>0.141267</td>\n",
              "      <td>-0.206010</td>\n",
              "      <td>0.502292</td>\n",
              "      <td>0.219422</td>\n",
              "      <td>0.215153</td>\n",
              "      <td>69.99</td>\n",
              "      <td>0</td>\n",
              "    </tr>\n",
              "  </tbody>\n",
              "</table>\n",
              "<p>5 rows × 31 columns</p>\n",
              "</div>\n",
              "      <button class=\"colab-df-convert\" onclick=\"convertToInteractive('df-25b261b1-df2c-4e29-94ab-682d74503e62')\"\n",
              "              title=\"Convert this dataframe to an interactive table.\"\n",
              "              style=\"display:none;\">\n",
              "        \n",
              "  <svg xmlns=\"http://www.w3.org/2000/svg\" height=\"24px\"viewBox=\"0 0 24 24\"\n",
              "       width=\"24px\">\n",
              "    <path d=\"M0 0h24v24H0V0z\" fill=\"none\"/>\n",
              "    <path d=\"M18.56 5.44l.94 2.06.94-2.06 2.06-.94-2.06-.94-.94-2.06-.94 2.06-2.06.94zm-11 1L8.5 8.5l.94-2.06 2.06-.94-2.06-.94L8.5 2.5l-.94 2.06-2.06.94zm10 10l.94 2.06.94-2.06 2.06-.94-2.06-.94-.94-2.06-.94 2.06-2.06.94z\"/><path d=\"M17.41 7.96l-1.37-1.37c-.4-.4-.92-.59-1.43-.59-.52 0-1.04.2-1.43.59L10.3 9.45l-7.72 7.72c-.78.78-.78 2.05 0 2.83L4 21.41c.39.39.9.59 1.41.59.51 0 1.02-.2 1.41-.59l7.78-7.78 2.81-2.81c.8-.78.8-2.07 0-2.86zM5.41 20L4 18.59l7.72-7.72 1.47 1.35L5.41 20z\"/>\n",
              "  </svg>\n",
              "      </button>\n",
              "      \n",
              "  <style>\n",
              "    .colab-df-container {\n",
              "      display:flex;\n",
              "      flex-wrap:wrap;\n",
              "      gap: 12px;\n",
              "    }\n",
              "\n",
              "    .colab-df-convert {\n",
              "      background-color: #E8F0FE;\n",
              "      border: none;\n",
              "      border-radius: 50%;\n",
              "      cursor: pointer;\n",
              "      display: none;\n",
              "      fill: #1967D2;\n",
              "      height: 32px;\n",
              "      padding: 0 0 0 0;\n",
              "      width: 32px;\n",
              "    }\n",
              "\n",
              "    .colab-df-convert:hover {\n",
              "      background-color: #E2EBFA;\n",
              "      box-shadow: 0px 1px 2px rgba(60, 64, 67, 0.3), 0px 1px 3px 1px rgba(60, 64, 67, 0.15);\n",
              "      fill: #174EA6;\n",
              "    }\n",
              "\n",
              "    [theme=dark] .colab-df-convert {\n",
              "      background-color: #3B4455;\n",
              "      fill: #D2E3FC;\n",
              "    }\n",
              "\n",
              "    [theme=dark] .colab-df-convert:hover {\n",
              "      background-color: #434B5C;\n",
              "      box-shadow: 0px 1px 3px 1px rgba(0, 0, 0, 0.15);\n",
              "      filter: drop-shadow(0px 1px 2px rgba(0, 0, 0, 0.3));\n",
              "      fill: #FFFFFF;\n",
              "    }\n",
              "  </style>\n",
              "\n",
              "      <script>\n",
              "        const buttonEl =\n",
              "          document.querySelector('#df-25b261b1-df2c-4e29-94ab-682d74503e62 button.colab-df-convert');\n",
              "        buttonEl.style.display =\n",
              "          google.colab.kernel.accessAllowed ? 'block' : 'none';\n",
              "\n",
              "        async function convertToInteractive(key) {\n",
              "          const element = document.querySelector('#df-25b261b1-df2c-4e29-94ab-682d74503e62');\n",
              "          const dataTable =\n",
              "            await google.colab.kernel.invokeFunction('convertToInteractive',\n",
              "                                                     [key], {});\n",
              "          if (!dataTable) return;\n",
              "\n",
              "          const docLinkHtml = 'Like what you see? Visit the ' +\n",
              "            '<a target=\"_blank\" href=https://colab.research.google.com/notebooks/data_table.ipynb>data table notebook</a>'\n",
              "            + ' to learn more about interactive tables.';\n",
              "          element.innerHTML = '';\n",
              "          dataTable['output_type'] = 'display_data';\n",
              "          await google.colab.output.renderOutput(dataTable, element);\n",
              "          const docLink = document.createElement('div');\n",
              "          docLink.innerHTML = docLinkHtml;\n",
              "          element.appendChild(docLink);\n",
              "        }\n",
              "      </script>\n",
              "    </div>\n",
              "  </div>\n",
              "  "
            ]
          },
          "metadata": {},
          "execution_count": 67
        }
      ],
      "source": [
        "data.head()"
      ]
    },
    {
      "cell_type": "code",
      "execution_count": null,
      "metadata": {
        "colab": {
          "base_uri": "https://localhost:8080/"
        },
        "id": "saaQGgNmljIW",
        "outputId": "d77e18e3-85dc-40ae-c386-6ad9bedefcf1"
      },
      "outputs": [
        {
          "output_type": "execute_result",
          "data": {
            "text/plain": [
              "Time      0\n",
              "V1        0\n",
              "V2        0\n",
              "V3        0\n",
              "V4        0\n",
              "V5        0\n",
              "V6        0\n",
              "V7        0\n",
              "V8        0\n",
              "V9        0\n",
              "V10       0\n",
              "V11       0\n",
              "V12       0\n",
              "V13       0\n",
              "V14       0\n",
              "V15       0\n",
              "V16       0\n",
              "V17       0\n",
              "V18       0\n",
              "V19       0\n",
              "V20       0\n",
              "V21       0\n",
              "V22       0\n",
              "V23       0\n",
              "V24       0\n",
              "V25       0\n",
              "V26       0\n",
              "V27       0\n",
              "V28       0\n",
              "Amount    0\n",
              "Class     0\n",
              "dtype: int64"
            ]
          },
          "metadata": {},
          "execution_count": 68
        }
      ],
      "source": [
        "data.isna().sum()"
      ]
    },
    {
      "cell_type": "code",
      "execution_count": null,
      "metadata": {
        "id": "b6kF7POjloSX"
      },
      "outputs": [],
      "source": [
        "data.dropna(inplace=True)"
      ]
    },
    {
      "cell_type": "code",
      "execution_count": null,
      "metadata": {
        "colab": {
          "base_uri": "https://localhost:8080/"
        },
        "id": "ISUCZPLRl4TP",
        "outputId": "a106742c-b8d9-49b8-ce0a-4a8d813618a1"
      },
      "outputs": [
        {
          "output_type": "execute_result",
          "data": {
            "text/plain": [
              "Time      0\n",
              "V1        0\n",
              "V2        0\n",
              "V3        0\n",
              "V4        0\n",
              "V5        0\n",
              "V6        0\n",
              "V7        0\n",
              "V8        0\n",
              "V9        0\n",
              "V10       0\n",
              "V11       0\n",
              "V12       0\n",
              "V13       0\n",
              "V14       0\n",
              "V15       0\n",
              "V16       0\n",
              "V17       0\n",
              "V18       0\n",
              "V19       0\n",
              "V20       0\n",
              "V21       0\n",
              "V22       0\n",
              "V23       0\n",
              "V24       0\n",
              "V25       0\n",
              "V26       0\n",
              "V27       0\n",
              "V28       0\n",
              "Amount    0\n",
              "Class     0\n",
              "dtype: int64"
            ]
          },
          "metadata": {},
          "execution_count": 70
        }
      ],
      "source": [
        "data.isna().sum()"
      ]
    },
    {
      "cell_type": "code",
      "execution_count": null,
      "metadata": {
        "colab": {
          "base_uri": "https://localhost:8080/"
        },
        "id": "9vDjxU5Il6BO",
        "outputId": "700c215e-97c7-46ca-a361-dcfecbef18bd"
      },
      "outputs": [
        {
          "output_type": "stream",
          "name": "stdout",
          "text": [
            "<class 'pandas.core.frame.DataFrame'>\n",
            "Int64Index: 284807 entries, 0 to 284806\n",
            "Data columns (total 31 columns):\n",
            " #   Column  Non-Null Count   Dtype  \n",
            "---  ------  --------------   -----  \n",
            " 0   Time    284807 non-null  float64\n",
            " 1   V1      284807 non-null  float64\n",
            " 2   V2      284807 non-null  float64\n",
            " 3   V3      284807 non-null  float64\n",
            " 4   V4      284807 non-null  float64\n",
            " 5   V5      284807 non-null  float64\n",
            " 6   V6      284807 non-null  float64\n",
            " 7   V7      284807 non-null  float64\n",
            " 8   V8      284807 non-null  float64\n",
            " 9   V9      284807 non-null  float64\n",
            " 10  V10     284807 non-null  float64\n",
            " 11  V11     284807 non-null  float64\n",
            " 12  V12     284807 non-null  float64\n",
            " 13  V13     284807 non-null  float64\n",
            " 14  V14     284807 non-null  float64\n",
            " 15  V15     284807 non-null  float64\n",
            " 16  V16     284807 non-null  float64\n",
            " 17  V17     284807 non-null  float64\n",
            " 18  V18     284807 non-null  float64\n",
            " 19  V19     284807 non-null  float64\n",
            " 20  V20     284807 non-null  float64\n",
            " 21  V21     284807 non-null  float64\n",
            " 22  V22     284807 non-null  float64\n",
            " 23  V23     284807 non-null  float64\n",
            " 24  V24     284807 non-null  float64\n",
            " 25  V25     284807 non-null  float64\n",
            " 26  V26     284807 non-null  float64\n",
            " 27  V27     284807 non-null  float64\n",
            " 28  V28     284807 non-null  float64\n",
            " 29  Amount  284807 non-null  float64\n",
            " 30  Class   284807 non-null  int64  \n",
            "dtypes: float64(30), int64(1)\n",
            "memory usage: 69.5 MB\n"
          ]
        }
      ],
      "source": [
        "data.info()"
      ]
    },
    {
      "cell_type": "code",
      "execution_count": null,
      "metadata": {
        "colab": {
          "base_uri": "https://localhost:8080/"
        },
        "id": "w1e_zURMih7P",
        "outputId": "a8396a12-36b5-454b-bd73-9ab0e2a9eb1f"
      },
      "outputs": [
        {
          "output_type": "execute_result",
          "data": {
            "text/plain": [
              "0    284315\n",
              "1       492\n",
              "Name: Class, dtype: int64"
            ]
          },
          "metadata": {},
          "execution_count": 72
        }
      ],
      "source": [
        "data.Class.value_counts()"
      ]
    },
    {
      "cell_type": "markdown",
      "metadata": {
        "id": "JjS-T_bXiq1_"
      },
      "source": [
        "There is class imbalance in the dataset given to us as we can there are 65283 '0.0' values\n",
        "but only 169 '1.0' values"
      ]
    },
    {
      "cell_type": "code",
      "execution_count": null,
      "metadata": {
        "id": "2Ts6yrIfi7Qe"
      },
      "outputs": [],
      "source": [
        "x = data.iloc[:,:-1].values\n",
        "y = data.iloc[:,-1].values.reshape(-1,1)"
      ]
    },
    {
      "cell_type": "code",
      "execution_count": null,
      "metadata": {
        "colab": {
          "base_uri": "https://localhost:8080/"
        },
        "id": "h2q6_OoYkgh2",
        "outputId": "248eb2ab-6de3-47fe-c1cd-1bff5a9b7fe8"
      },
      "outputs": [
        {
          "output_type": "stream",
          "name": "stdout",
          "text": [
            "Before Over-Sampling: \n",
            "Samples in class 0:  284315\n",
            "Samples in class 1:  492\n"
          ]
        }
      ],
      "source": [
        "t = [(d) for d in y if d==0]\n",
        "s = [(d) for d in y if d==1]\n",
        "print('Before Over-Sampling: ')\n",
        "print('Samples in class 0: ',len(t))\n",
        "print('Samples in class 1: ',len(s))"
      ]
    },
    {
      "cell_type": "code",
      "execution_count": null,
      "metadata": {
        "colab": {
          "base_uri": "https://localhost:8080/"
        },
        "id": "z1QF9bQbk_zd",
        "outputId": "fad879ff-4323-47a5-e32d-3aa254332767"
      },
      "outputs": [
        {
          "output_type": "execute_result",
          "data": {
            "text/plain": [
              "(array([[ 0.00000000e+00, -1.35980713e+00, -7.27811733e-02, ...,\n",
              "          1.33558377e-01, -2.10530535e-02,  1.49620000e+02],\n",
              "        [ 0.00000000e+00,  1.19185711e+00,  2.66150712e-01, ...,\n",
              "         -8.98309914e-03,  1.47241692e-02,  2.69000000e+00],\n",
              "        [ 1.00000000e+00, -1.35835406e+00, -1.34016307e+00, ...,\n",
              "         -5.53527940e-02, -5.97518406e-02,  3.78660000e+02],\n",
              "        ...,\n",
              "        [ 1.72788000e+05,  1.91956501e+00, -3.01253846e-01, ...,\n",
              "          4.45477214e-03, -2.65608286e-02,  6.78800000e+01],\n",
              "        [ 1.72788000e+05, -2.40440050e-01,  5.30482513e-01, ...,\n",
              "          1.08820735e-01,  1.04532821e-01,  1.00000000e+01],\n",
              "        [ 1.72792000e+05, -5.33412522e-01, -1.89733337e-01, ...,\n",
              "         -2.41530880e-03,  1.36489143e-02,  2.17000000e+02]]), array([[0],\n",
              "        [0],\n",
              "        [0],\n",
              "        ...,\n",
              "        [0],\n",
              "        [0],\n",
              "        [0]]))"
            ]
          },
          "metadata": {},
          "execution_count": 75
        }
      ],
      "source": [
        "x, y"
      ]
    },
    {
      "cell_type": "code",
      "execution_count": null,
      "metadata": {
        "colab": {
          "base_uri": "https://localhost:8080/"
        },
        "id": "yi3cgReKkmue",
        "outputId": "1b08a696-3878-43b9-ebac-c6a562a136d4"
      },
      "outputs": [
        {
          "output_type": "stream",
          "name": "stdout",
          "text": [
            "After Over-Sampling: \n",
            "Samples in class 0:  284315\n",
            "Samples in class 1:  284315\n"
          ]
        }
      ],
      "source": [
        "from imblearn.over_sampling import RandomOverSampler\n",
        "Over = RandomOverSampler()\n",
        "x_Over, y_Over = Over.fit_resample(x, y)\n",
        "\n",
        "t = [(d) for d in y_Over if d==0]\n",
        "s = [(d) for d in y_Over if d==1]\n",
        "print('After Over-Sampling: ')\n",
        "print('Samples in class 0: ',len(t))\n",
        "print('Samples in class 1: ',len(s))"
      ]
    },
    {
      "cell_type": "code",
      "execution_count": null,
      "metadata": {
        "colab": {
          "base_uri": "https://localhost:8080/"
        },
        "id": "xOKpErmBmRpY",
        "outputId": "a8695f9e-307c-4a59-839a-76cac9071a43"
      },
      "outputs": [
        {
          "output_type": "stream",
          "name": "stdout",
          "text": [
            "Accuracy: 0.49992191494855764, STD of all accuracies: 0.4998647066976212\n"
          ]
        }
      ],
      "source": [
        "dt = DecisionTreeClassifier()\n",
        "dt.fit(x,y)\n",
        "scores = evaluate(dt,x_Over,y_Over)\n",
        "print(f'Accuracy: {np.mean(scores)}, STD of all accuracies: {np.std(scores)}')"
      ]
    },
    {
      "cell_type": "code",
      "execution_count": null,
      "metadata": {
        "colab": {
          "base_uri": "https://localhost:8080/"
        },
        "id": "2ViURwU5mw15",
        "outputId": "bffbba0f-eb1a-4c8a-9777-37cc9a48a7fd"
      },
      "outputs": [
        {
          "output_type": "stream",
          "name": "stderr",
          "text": [
            "/usr/local/lib/python3.7/dist-packages/sklearn/utils/validation.py:993: DataConversionWarning: A column-vector y was passed when a 1d array was expected. Please change the shape of y to (n_samples, ), for example using ravel().\n",
            "  y = column_or_1d(y, warn=True)\n"
          ]
        },
        {
          "output_type": "stream",
          "name": "stdout",
          "text": [
            "Accuracy: 0.4849726345554646, STD of all accuracies: 0.482659510541816\n"
          ]
        }
      ],
      "source": [
        "model_ada = AdaBoostClassifier()\n",
        "model_ada.fit(x,y)\n",
        "scores = evaluate(model_ada,x_Over,y_Over)\n",
        "print(f'Accuracy: {np.mean(scores)}, STD of all accuracies: {np.std(scores)}')"
      ]
    },
    {
      "cell_type": "markdown",
      "metadata": {
        "id": "kzGFiNjh44WR"
      },
      "source": [
        "# Question 3"
      ]
    },
    {
      "cell_type": "markdown",
      "metadata": {
        "id": "Zi2aNb-go5lQ"
      },
      "source": [
        "## AdaBoost ensemble on Depth Effect On Performance"
      ]
    },
    {
      "cell_type": "code",
      "execution_count": null,
      "metadata": {
        "id": "fws5qEQJ44WS"
      },
      "outputs": [],
      "source": [
        "from sklearn.tree import DecisionTreeClassifier\n",
        "from sklearn.ensemble import AdaBoostClassifier\n",
        "# Set a list of models to evaluate\n",
        "def get_models():\n",
        "  models = {}\n",
        "  # explore depths from 1 - 10\n",
        "  for i in range(1,10):\n",
        "    # define base model\n",
        "    base = DecisionTreeClassifier(max_depth=i)\n",
        "    # define ensemble model\n",
        "    models[str(i)] = AdaBoostClassifier(base_estimator=base)\n",
        "  return models"
      ]
    },
    {
      "cell_type": "code",
      "execution_count": null,
      "metadata": {
        "colab": {
          "base_uri": "https://localhost:8080/"
        },
        "outputId": "7f5a257a-4750-4895-fce5-d23f7b2627b6",
        "id": "LHHGxrlv44WS"
      },
      "outputs": [
        {
          "output_type": "stream",
          "name": "stdout",
          "text": [
            "Name: 1  Acc: 1.0000000000000000  STD: 0.0000000000000000\n",
            "Name: 2  Acc: 1.0000000000000000  STD: 0.0000000000000000\n",
            "Name: 3  Acc: 1.0000000000000000  STD: 0.0000000000000000\n",
            "Name: 4  Acc: 0.9998045784477944  STD: 0.0003542316454620\n",
            "Name: 5  Acc: 0.9996929089893913  STD: 0.0004578788237537\n",
            "Name: 6  Acc: 0.9997766610831936  STD: 0.0004288746927900\n",
            "Name: 7  Acc: 0.9998045784477945  STD: 0.0004150214613992\n",
            "Name: 8  Acc: 0.9997766610831937  STD: 0.0004288746927900\n",
            "Name: 9  Acc: 0.9998045784477944  STD: 0.0003542316454620\n"
          ]
        }
      ],
      "source": [
        "# evaluate model using cross_validation\n",
        "from sklearn.ensemble import AdaBoostClassifier\n",
        "from sklearn.linear_model import LogisticRegression\n",
        "from sklearn.model_selection import RepeatedStratifiedKFold, cross_val_score\n",
        "\n",
        "def evaluate(model, x, y):\n",
        "  cv = RepeatedStratifiedKFold(n_splits=10, n_repeats=3, random_state=1)\n",
        "  n_scores = cross_val_score(model, x, y, scoring='accuracy', cv=cv, n_jobs=1, error_score='raise')\n",
        "  return [np.mean(n_scores), np.std(n_scores)]\n",
        "  # return n_scores\n",
        "\n",
        "models = get_models()\n",
        "\n",
        "results, names = [], []\n",
        "\n",
        "#evaluating models\n",
        "for name, model in models.items():\n",
        "  scores = evaluate(model, x_Over, y_Over)\n",
        "  results.append(scores)\n",
        "  names.append(name)\n",
        "  print(f'Name: {name}  Acc: {scores[0]:.16f}  STD: {scores[1]:.16f}')"
      ]
    },
    {
      "cell_type": "code",
      "execution_count": null,
      "metadata": {
        "colab": {
          "base_uri": "https://localhost:8080/",
          "height": 700
        },
        "id": "XG5c8fUIcVv2",
        "outputId": "48545ad2-1362-4aea-c3c8-9cf3c62a4f89"
      },
      "outputs": [
        {
          "data": {
            "image/png": "[encoded data removed]",
            "text/plain": [
              "<Figure size 1008x864 with 1 Axes>"
            ]
          },
          "metadata": {},
          "output_type": "display_data"
        }
      ],
      "source": [
        "plt.figure(figsize=(14,12))\n",
        "plt.boxplot(results, labels=names, showmeans=True)\n",
        "plt.show()"
      ]
    },
    {
      "cell_type": "markdown",
      "metadata": {
        "id": "Nn7n2yDDbGA9"
      },
      "source": [
        "## ADA Boost ensemble learning rate on Perormance"
      ]
    },
    {
      "cell_type": "code",
      "execution_count": null,
      "metadata": {
        "id": "-95aewrAYiQ8"
      },
      "outputs": [],
      "source": [
        "def get_models_lr():\n",
        "  models = {}\n",
        "  # explore depths from 0.1 - 2.1\n",
        "  for i in np.arange(0.1,2.1,0.1):\n",
        "    # define base model\n",
        "    key = '%3f'%i\n",
        "    # define ensemble model\n",
        "    models[key] = AdaBoostClassifier(learning_rate=i)\n",
        "  return models"
      ]
    },
    {
      "cell_type": "code",
      "execution_count": null,
      "metadata": {
        "colab": {
          "base_uri": "https://localhost:8080/"
        },
        "id": "9qYIm5jtaM_2",
        "outputId": "fead01ca-8546-4bac-bbd2-0be95e0c6aac"
      },
      "outputs": [
        {
          "name": "stdout",
          "output_type": "stream",
          "text": [
            "Name: 0.100000  Acc: 0.9959933703782617  STD: 0.0009224391344081\n",
            "Name: 0.200000  Acc: 0.9974173713939490  STD: 0.0007506785199739\n",
            "Name: 0.300000  Acc: 0.9979157758976669  STD: 0.0006982341325385\n",
            "Name: 0.400000  Acc: 0.9983623916668395  STD: 0.0006296156455777\n",
            "Name: 0.500000  Acc: 0.9986666188991988  STD: 0.0006052599731034\n",
            "Name: 0.600000  Acc: 0.9990485084922386  STD: 0.0003990686575834\n",
            "Name: 0.700000  Acc: 0.9993786156359264  STD: 0.0003831556496386\n",
            "Name: 0.800000  Acc: 0.9994692368078509  STD: 0.0003128452778720\n",
            "Name: 0.900000  Acc: 0.9996504753805842  STD: 0.0003225930864181\n",
            "Name: 1.000000  Acc: 0.9997346202894835  STD: 0.0002155489749261\n",
            "Name: 1.100000  Acc: 0.9996698890851963  STD: 0.0002842917529439\n",
            "Name: 1.200000  Acc: 0.9997216690204714  STD: 0.0002491086126143\n",
            "Name: 1.300000  Acc: 0.9997863964536428  STD: 0.0002027425807952\n",
            "Name: 1.400000  Acc: 0.9997152002996780  STD: 0.0002227317523988\n",
            "Name: 1.500000  Acc: 0.9997475615021862  STD: 0.0002076333723833\n",
            "Name: 1.600000  Acc: 0.9998122901923961  STD: 0.0002035567587148\n",
            "Name: 1.700000  Acc: 0.9997540339940958  STD: 0.0002181590120879\n",
            "Name: 1.800000  Acc: 0.9997540377652115  STD: 0.0002238466754530\n",
            "Name: 1.900000  Acc: 0.9995792729414263  STD: 0.0002927086109185\n",
            "Name: 2.000000  Acc: 0.9661081191496638  STD: 0.0332473848510627\n"
          ]
        }
      ],
      "source": [
        "models = get_models_lr()\n",
        "\n",
        "results, names = [], []\n",
        "\n",
        "#evaluating models\n",
        "for name, model in models.items():\n",
        "  scores = evaluate(model, x_Over, y_Over)\n",
        "  results.append(scores)\n",
        "  names.append(name)\n",
        "  print(f'Name: {name}  Acc: {scores[0]:.16f}  STD: {scores[1]:.16f}')"
      ]
    },
    {
      "cell_type": "code",
      "execution_count": null,
      "metadata": {
        "colab": {
          "base_uri": "https://localhost:8080/",
          "height": 296
        },
        "id": "A1ySCiyye69f",
        "outputId": "feb1f42f-4031-4aa5-9f7c-706e2cea9b2e"
      },
      "outputs": [
        {
          "data": {
            "image/png": "[encoded data removed]",
            "text/plain": [
              "<Figure size 432x288 with 1 Axes>"
            ]
          },
          "metadata": {},
          "output_type": "display_data"
        }
      ],
      "source": [
        "plt.boxplot(results, labels=names, showmeans=True)\n",
        "plt.xticks(rotation=45)\n",
        "plt.show()"
      ]
    },
    {
      "cell_type": "markdown",
      "metadata": {
        "id": "H-O9rXpVbLmX"
      },
      "source": [
        "## Ada Boost using Grid Search"
      ]
    },
    {
      "cell_type": "code",
      "execution_count": null,
      "metadata": {
        "id": "aLNhT-FYfe0P"
      },
      "outputs": [],
      "source": [
        "def evaluate_grid(model, x, y, grid):\n",
        "  cv = RepeatedStratifiedKFold(n_splits=10, n_repeats=3, random_state=1)\n",
        "  n_scores = GridSearchCV(model, x, y,grid, scoring='accuracy', cv=cv, n_jobs=1)\n",
        "  return [np.mean(n_scores), np.std(n_scores)]\n",
        "  # return n_scores"
      ]
    },
    {
      "cell_type": "code",
      "execution_count": null,
      "metadata": {
        "id": "jlyLX_NdaOH7",
        "colab": {
          "base_uri": "https://localhost:8080/"
        },
        "outputId": "1f32dc45-b2d5-403d-812f-8a1fd1ae8cc6"
      },
      "outputs": [
        {
          "output_type": "stream",
          "name": "stdout",
          "text": [
            "Best: 1.000000 using {'learning_rate': 0.1, 'n_estimators': 20}\n",
            "0.9847 0.0035 {'learning_rate': 0.0001, 'n_estimators': 20}\n",
            "0.9847 0.0035 {'learning_rate': 0.0001, 'n_estimators': 50}\n",
            "0.9847 0.0035 {'learning_rate': 0.0001, 'n_estimators': 70}\n",
            "0.9847 0.0035 {'learning_rate': 0.0001, 'n_estimators': 100}\n",
            "0.9847 0.0035 {'learning_rate': 0.001, 'n_estimators': 20}\n",
            "0.9853 0.0046 {'learning_rate': 0.001, 'n_estimators': 50}\n",
            "0.9997 0.0005 {'learning_rate': 0.001, 'n_estimators': 70}\n",
            "0.9997 0.0005 {'learning_rate': 0.001, 'n_estimators': 100}\n",
            "0.9997 0.0005 {'learning_rate': 0.01, 'n_estimators': 20}\n",
            "0.9999 0.0003 {'learning_rate': 0.01, 'n_estimators': 50}\n",
            "0.9999 0.0003 {'learning_rate': 0.01, 'n_estimators': 70}\n",
            "0.9999 0.0003 {'learning_rate': 0.01, 'n_estimators': 100}\n",
            "1.0000 0.0000 {'learning_rate': 0.1, 'n_estimators': 20}\n",
            "1.0000 0.0000 {'learning_rate': 0.1, 'n_estimators': 50}\n",
            "1.0000 0.0000 {'learning_rate': 0.1, 'n_estimators': 70}\n",
            "1.0000 0.0000 {'learning_rate': 0.1, 'n_estimators': 100}\n",
            "1.0000 0.0002 {'learning_rate': 1, 'n_estimators': 20}\n",
            "1.0000 0.0000 {'learning_rate': 1, 'n_estimators': 50}\n",
            "1.0000 0.0000 {'learning_rate': 1, 'n_estimators': 70}\n",
            "1.0000 0.0000 {'learning_rate': 1, 'n_estimators': 100}\n"
          ]
        }
      ],
      "source": [
        "from sklearn.model_selection import RepeatedStratifiedKFold, cross_val_score\n",
        "from sklearn.model_selection import GridSearchCV\n",
        "model = AdaBoostClassifier()\n",
        "grid = {}\n",
        "grid['n_estimators'] = [20, 50, 70, 100]\n",
        "grid['learning_rate'] = [0.0001,0.001,0.01,0.1,1]\n",
        "# define the evaluation procedure\n",
        "cv = RepeatedStratifiedKFold(n_splits=10, n_repeats=3, random_state=1)\n",
        "# define the grid search procedure\n",
        "grid_search = GridSearchCV(estimator=model, param_grid=grid, n_jobs=-1, cv=cv, scoring='accuracy')\n",
        "# execute the grid search\n",
        "grid_result = grid_search.fit(x_Over, y_Over)\n",
        "# summarize the best score and configuration\n",
        "print(\"Best: %f using %s\" % (grid_result.best_score_, grid_result.best_params_))\n",
        "# summarize all scores that were evaluated\n",
        "means = grid_result.cv_results_['mean_test_score']\n",
        "stds = grid_result.cv_results_['std_test_score']\n",
        "params = grid_result.cv_results_['params']\n",
        "for mean, stdev, param in zip(means, stds, params):\n",
        "    # print(\"%f (%f) with: %r\" % (mean, stdev, param))\n",
        "    print(f\"{mean:.4f} {stdev:.4f} {param}\")"
      ]
    },
    {
      "cell_type": "code",
      "source": [],
      "metadata": {
        "id": "wJb9CCdmRFRl"
      },
      "execution_count": null,
      "outputs": []
    }
  ],
  "metadata": {
    "colab": {
      "provenance": []
    },
    "kernelspec": {
      "display_name": "Python 3",
      "name": "python3"
    },
    "language_info": {
      "name": "python"
    }
  },
  "nbformat": 4,
  "nbformat_minor": 0
}